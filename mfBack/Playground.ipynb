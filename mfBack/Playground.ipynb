{
 "cells": [
  {
   "cell_type": "markdown",
   "id": "6c325ea1-8019-4978-a9dd-17f4a3be7ad8",
   "metadata": {},
   "source": [
    "Getting data\n",
    "<br>Which data to get\n",
    "<br>How to get the said data via Yahoo Api or webscraping\n",
    "\n",
    "What libraries require\n",
    "<br>What model and algorithms require\n",
    "\n",
    "What extra can we do which is slightly less explored in the industry"
   ]
  },
  {
   "cell_type": "code",
   "execution_count": null,
   "id": "e4c7e552-b735-48be-89b6-217809abb9fc",
   "metadata": {},
   "outputs": [],
   "source": []
  }
 ],
 "metadata": {
  "kernelspec": {
   "display_name": "Python 3 (ipykernel)",
   "language": "python",
   "name": "python3"
  },
  "language_info": {
   "codemirror_mode": {
    "name": "ipython",
    "version": 3
   },
   "file_extension": ".py",
   "mimetype": "text/x-python",
   "name": "python",
   "nbconvert_exporter": "python",
   "pygments_lexer": "ipython3",
   "version": "3.13.2"
  }
 },
 "nbformat": 4,
 "nbformat_minor": 5
}
